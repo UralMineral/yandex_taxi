{
 "cells": [
  {
   "cell_type": "code",
   "execution_count": 4,
   "id": "fc9aa33f",
   "metadata": {
    "ExecuteTime": {
     "end_time": "2024-04-24T11:42:04.366225Z",
     "start_time": "2024-04-24T11:42:04.356607Z"
    }
   },
   "outputs": [],
   "source": [
    "import numpy as np\n",
    "import pandas as pd\n",
    "import os\n",
    "\n",
    "from sklearn.metrics import mean_squared_error as mse\n",
    "\n",
    "import matplotlib.pyplot as plt\n",
    "%matplotlib inline\n",
    "plt.style.use('fivethirtyeight') \n",
    "\n",
    "import warnings\n",
    "warnings.filterwarnings(\"ignore\") # `do not disturbe` mode"
   ]
  },
  {
   "cell_type": "code",
   "execution_count": 5,
   "id": "2427b0d6",
   "metadata": {
    "ExecuteTime": {
     "end_time": "2024-04-24T11:42:05.395074Z",
     "start_time": "2024-04-24T11:42:05.379556Z"
    }
   },
   "outputs": [],
   "source": [
    "df = pd.read_csv(\"orders.csv\")\n",
    "df = df.loc[df['payment_cost']!=0]\n",
    "df = df.dropna()"
   ]
  },
  {
   "cell_type": "code",
   "execution_count": 6,
   "id": "312eba11",
   "metadata": {
    "ExecuteTime": {
     "end_time": "2024-04-24T11:42:07.705880Z",
     "start_time": "2024-04-24T11:42:07.677143Z"
    }
   },
   "outputs": [
    {
     "data": {
      "text/html": [
       "<div>\n",
       "<style scoped>\n",
       "    .dataframe tbody tr th:only-of-type {\n",
       "        vertical-align: middle;\n",
       "    }\n",
       "\n",
       "    .dataframe tbody tr th {\n",
       "        vertical-align: top;\n",
       "    }\n",
       "\n",
       "    .dataframe thead th {\n",
       "        text-align: right;\n",
       "    }\n",
       "</style>\n",
       "<table border=\"1\" class=\"dataframe\">\n",
       "  <thead>\n",
       "    <tr style=\"text-align: right;\">\n",
       "      <th></th>\n",
       "      <th>payment_cost</th>\n",
       "    </tr>\n",
       "    <tr>\n",
       "      <th>created_at_utc</th>\n",
       "      <th></th>\n",
       "    </tr>\n",
       "  </thead>\n",
       "  <tbody>\n",
       "    <tr>\n",
       "      <th>2017-09-30</th>\n",
       "      <td>78.775000</td>\n",
       "    </tr>\n",
       "    <tr>\n",
       "      <th>2017-10-18</th>\n",
       "      <td>438.150000</td>\n",
       "    </tr>\n",
       "    <tr>\n",
       "      <th>2017-10-19</th>\n",
       "      <td>425.500000</td>\n",
       "    </tr>\n",
       "    <tr>\n",
       "      <th>2017-10-27</th>\n",
       "      <td>98.325000</td>\n",
       "    </tr>\n",
       "    <tr>\n",
       "      <th>2017-11-02</th>\n",
       "      <td>96.025000</td>\n",
       "    </tr>\n",
       "    <tr>\n",
       "      <th>...</th>\n",
       "      <td>...</td>\n",
       "    </tr>\n",
       "    <tr>\n",
       "      <th>2021-05-23</th>\n",
       "      <td>555.225000</td>\n",
       "    </tr>\n",
       "    <tr>\n",
       "      <th>2021-05-24</th>\n",
       "      <td>83.525000</td>\n",
       "    </tr>\n",
       "    <tr>\n",
       "      <th>2021-05-25</th>\n",
       "      <td>435.683333</td>\n",
       "    </tr>\n",
       "    <tr>\n",
       "      <th>2021-05-26</th>\n",
       "      <td>290.220000</td>\n",
       "    </tr>\n",
       "    <tr>\n",
       "      <th>2021-05-27</th>\n",
       "      <td>78.350000</td>\n",
       "    </tr>\n",
       "  </tbody>\n",
       "</table>\n",
       "<p>475 rows × 1 columns</p>\n",
       "</div>"
      ],
      "text/plain": [
       "                payment_cost\n",
       "created_at_utc              \n",
       "2017-09-30         78.775000\n",
       "2017-10-18        438.150000\n",
       "2017-10-19        425.500000\n",
       "2017-10-27         98.325000\n",
       "2017-11-02         96.025000\n",
       "...                      ...\n",
       "2021-05-23        555.225000\n",
       "2021-05-24         83.525000\n",
       "2021-05-25        435.683333\n",
       "2021-05-26        290.220000\n",
       "2021-05-27         78.350000\n",
       "\n",
       "[475 rows x 1 columns]"
      ]
     },
     "execution_count": 6,
     "metadata": {},
     "output_type": "execute_result"
    }
   ],
   "source": [
    "#Converting to date-time\n",
    "df = df[['created_at_utc','payment_cost']]\n",
    "df['created_at_utc'] = pd.to_datetime(df.created_at_utc, unit='s')\n",
    "df['created_at_utc'] = df['created_at_utc'].dt.date\n",
    "df = df.groupby('created_at_utc').payment_cost.mean()\n",
    "df = df.reset_index()\n",
    "df.sort_values(by=['created_at_utc'], inplace=True)\n",
    "df.set_index('created_at_utc', inplace=True)\n",
    "\n",
    "df"
   ]
  },
  {
   "cell_type": "code",
   "execution_count": 7,
   "id": "b3ebac83",
   "metadata": {
    "ExecuteTime": {
     "end_time": "2024-04-24T11:42:32.319307Z",
     "start_time": "2024-04-24T11:42:32.312840Z"
    }
   },
   "outputs": [],
   "source": [
    "def my_rmse(x,y):\n",
    "    return(np.round( np.sqrt(mse(x.values,y.values)) ,4))\n",
    "\n",
    "\n",
    "def eval_model(model, flow,\n",
    "               past_covariates=None,  future_covariates=None,\n",
    "              retrain = False,\n",
    "              forecast_horizon = 10,\n",
    "              last_obs = 200):\n",
    "    # Past and future covariates are optional because they won't always be used in our tests\n",
    "    \n",
    "    # We backtest the model on the last 20% of the flow series, \n",
    "    # with a horizon of `forecast_horizon` steps:\n",
    "    backtest = model.historical_forecasts(series=flow, \n",
    "                                          past_covariates=past_covariates,\n",
    "                                          future_covariates=future_covariates,\n",
    "                                          start=0.8, \n",
    "                                          retrain=retrain,\n",
    "                                          verbose=True, \n",
    "                                          forecast_horizon=forecast_horizon)\n",
    "    \n",
    "    flow[-len(backtest) - last_obs:].plot()\n",
    "    backtest.plot(label='backtest (n=' + str(forecast_horizon) + ')')\n",
    "    \n",
    "    print('Backtest RMSE = {}'.format(np.round( rmse(flow, backtest),2 )))\n",
    "    "
   ]
  },
  {
   "cell_type": "code",
   "execution_count": 8,
   "id": "af70810d",
   "metadata": {
    "ExecuteTime": {
     "end_time": "2024-04-24T11:42:57.970237Z",
     "start_time": "2024-04-24T11:42:44.961133Z"
    }
   },
   "outputs": [
    {
     "name": "stdout",
     "output_type": "stream",
     "text": [
      "Collecting llvmlite\n",
      "  Downloading llvmlite-0.42.0-cp312-cp312-manylinux_2_17_x86_64.manylinux2014_x86_64.whl.metadata (4.8 kB)\n",
      "Downloading llvmlite-0.42.0-cp312-cp312-manylinux_2_17_x86_64.manylinux2014_x86_64.whl (43.8 MB)\n",
      "\u001b[2K   \u001b[90m━━━━━━━━━━━━━━━━━━━━━━━━━━━━━━━━━━━━━━━━\u001b[0m \u001b[32m43.8/43.8 MB\u001b[0m \u001b[31m5.6 MB/s\u001b[0m eta \u001b[36m0:00:00\u001b[0m00:01\u001b[0m00:01\u001b[0m\n",
      "\u001b[?25hInstalling collected packages: llvmlite\n",
      "Successfully installed llvmlite-0.42.0\n"
     ]
    }
   ],
   "source": [
    "!pip install llvmlite "
   ]
  },
  {
   "cell_type": "code",
   "execution_count": null,
   "id": "80a984ef",
   "metadata": {},
   "outputs": [],
   "source": [
    " from ESRNN import ESRNN\n",
    "from ESRNN.m4_data import *\n",
    "from ESRNN.utils_evaluation import evaluate_prediction_owa\n",
    "from ESRNN.utils_visualization import plot_grid_prediction"
   ]
  },
  {
   "cell_type": "code",
   "execution_count": 1,
   "id": "a42411bf",
   "metadata": {
    "ExecuteTime": {
     "end_time": "2024-04-30T08:37:05.503192Z",
     "start_time": "2024-04-30T08:37:05.050396Z"
    }
   },
   "outputs": [],
   "source": [
    "import matplotlib.pyplot as plt\n",
    "import pandas as pd\n",
    "from sklearn.linear_model import LinearRegression\n",
    "from sklearn.preprocessing import LabelEncoder\n",
    "from statsmodels.tsa.deterministic import DeterministicProcess\n",
    "from xgboost import XGBRegressor"
   ]
  },
  {
   "cell_type": "code",
   "execution_count": 2,
   "id": "378a3d26",
   "metadata": {
    "ExecuteTime": {
     "end_time": "2024-04-30T08:37:48.148817Z",
     "start_time": "2024-04-30T08:37:48.091978Z"
    }
   },
   "outputs": [
    {
     "data": {
      "text/html": [
       "<div>\n",
       "<style scoped>\n",
       "    .dataframe tbody tr th:only-of-type {\n",
       "        vertical-align: middle;\n",
       "    }\n",
       "\n",
       "    .dataframe tbody tr th {\n",
       "        vertical-align: top;\n",
       "    }\n",
       "\n",
       "    .dataframe thead th {\n",
       "        text-align: right;\n",
       "    }\n",
       "</style>\n",
       "<table border=\"1\" class=\"dataframe\">\n",
       "  <thead>\n",
       "    <tr style=\"text-align: right;\">\n",
       "      <th></th>\n",
       "      <th>created_at_utc</th>\n",
       "      <th>tariff_class</th>\n",
       "      <th>tariff_internal_name</th>\n",
       "      <th>status</th>\n",
       "      <th>taxi_status</th>\n",
       "      <th>vehicle_model</th>\n",
       "      <th>vehicle_color</th>\n",
       "      <th>vehicle_car_region</th>\n",
       "      <th>payment_cost</th>\n",
       "      <th>payment_currency_code</th>\n",
       "      <th>driver_call_model</th>\n",
       "    </tr>\n",
       "  </thead>\n",
       "  <tbody>\n",
       "    <tr>\n",
       "      <th>0</th>\n",
       "      <td>1622145491</td>\n",
       "      <td>Эконом</td>\n",
       "      <td>econom</td>\n",
       "      <td>cancelled</td>\n",
       "      <td>waiting</td>\n",
       "      <td>Kia Rio</td>\n",
       "      <td>белый</td>\n",
       "      <td>34</td>\n",
       "      <td>52.00</td>\n",
       "      <td>RUB</td>\n",
       "      <td>no_call</td>\n",
       "    </tr>\n",
       "    <tr>\n",
       "      <th>1</th>\n",
       "      <td>1622145422</td>\n",
       "      <td>Эконом</td>\n",
       "      <td>econom</td>\n",
       "      <td>cancelled</td>\n",
       "      <td>driving</td>\n",
       "      <td>LADA (ВАЗ) Granta</td>\n",
       "      <td>серый</td>\n",
       "      <td>34</td>\n",
       "      <td>0.00</td>\n",
       "      <td>RUB</td>\n",
       "      <td>no_call</td>\n",
       "    </tr>\n",
       "    <tr>\n",
       "      <th>2</th>\n",
       "      <td>1622145212</td>\n",
       "      <td>Эконом</td>\n",
       "      <td>econom</td>\n",
       "      <td>finished</td>\n",
       "      <td>complete</td>\n",
       "      <td>Renault Logan</td>\n",
       "      <td>белый</td>\n",
       "      <td>34</td>\n",
       "      <td>104.70</td>\n",
       "      <td>RUB</td>\n",
       "      <td>on_demand</td>\n",
       "    </tr>\n",
       "    <tr>\n",
       "      <th>3</th>\n",
       "      <td>1622054615</td>\n",
       "      <td>Эконом</td>\n",
       "      <td>econom</td>\n",
       "      <td>finished</td>\n",
       "      <td>complete</td>\n",
       "      <td>LADA (ВАЗ) Granta</td>\n",
       "      <td>белый</td>\n",
       "      <td>34</td>\n",
       "      <td>120.00</td>\n",
       "      <td>RUB</td>\n",
       "      <td>on_demand</td>\n",
       "    </tr>\n",
       "    <tr>\n",
       "      <th>4</th>\n",
       "      <td>1622045036</td>\n",
       "      <td>Эконом</td>\n",
       "      <td>econom</td>\n",
       "      <td>finished</td>\n",
       "      <td>complete</td>\n",
       "      <td>LADA (ВАЗ) Granta</td>\n",
       "      <td>белый</td>\n",
       "      <td>34</td>\n",
       "      <td>115.50</td>\n",
       "      <td>RUB</td>\n",
       "      <td>on_demand</td>\n",
       "    </tr>\n",
       "    <tr>\n",
       "      <th>...</th>\n",
       "      <td>...</td>\n",
       "      <td>...</td>\n",
       "      <td>...</td>\n",
       "      <td>...</td>\n",
       "      <td>...</td>\n",
       "      <td>...</td>\n",
       "      <td>...</td>\n",
       "      <td>...</td>\n",
       "      <td>...</td>\n",
       "      <td>...</td>\n",
       "      <td>...</td>\n",
       "    </tr>\n",
       "    <tr>\n",
       "      <th>1200</th>\n",
       "      <td>1617028952</td>\n",
       "      <td>Эконом</td>\n",
       "      <td>econom</td>\n",
       "      <td>finished</td>\n",
       "      <td>complete</td>\n",
       "      <td>LADA (ВАЗ) Largus</td>\n",
       "      <td>белый</td>\n",
       "      <td>34</td>\n",
       "      <td>472.40</td>\n",
       "      <td>RUB</td>\n",
       "      <td>no_call</td>\n",
       "    </tr>\n",
       "    <tr>\n",
       "      <th>1201</th>\n",
       "      <td>1617028458</td>\n",
       "      <td>Эконом</td>\n",
       "      <td>econom</td>\n",
       "      <td>cancelled</td>\n",
       "      <td>driving</td>\n",
       "      <td>LADA (ВАЗ) Granta</td>\n",
       "      <td>белый</td>\n",
       "      <td>34</td>\n",
       "      <td>0.00</td>\n",
       "      <td>RUB</td>\n",
       "      <td>no_call</td>\n",
       "    </tr>\n",
       "    <tr>\n",
       "      <th>1202</th>\n",
       "      <td>1617025078</td>\n",
       "      <td>Эконом</td>\n",
       "      <td>econom</td>\n",
       "      <td>finished</td>\n",
       "      <td>complete</td>\n",
       "      <td>LADA (ВАЗ) Granta</td>\n",
       "      <td>серый</td>\n",
       "      <td>34</td>\n",
       "      <td>146.85</td>\n",
       "      <td>RUB</td>\n",
       "      <td>no_call</td>\n",
       "    </tr>\n",
       "    <tr>\n",
       "      <th>1203</th>\n",
       "      <td>1616869125</td>\n",
       "      <td>Эконом</td>\n",
       "      <td>econom</td>\n",
       "      <td>cancelled</td>\n",
       "      <td>driving</td>\n",
       "      <td>LADA (ВАЗ) Largus</td>\n",
       "      <td>серый</td>\n",
       "      <td>34</td>\n",
       "      <td>0.00</td>\n",
       "      <td>RUB</td>\n",
       "      <td>no_call</td>\n",
       "    </tr>\n",
       "    <tr>\n",
       "      <th>1204</th>\n",
       "      <td>1616844024</td>\n",
       "      <td>Эконом</td>\n",
       "      <td>econom</td>\n",
       "      <td>finished</td>\n",
       "      <td>complete</td>\n",
       "      <td>Volkswagen Polo</td>\n",
       "      <td>жёлтый</td>\n",
       "      <td>34</td>\n",
       "      <td>600.00</td>\n",
       "      <td>RUB</td>\n",
       "      <td>no_call</td>\n",
       "    </tr>\n",
       "  </tbody>\n",
       "</table>\n",
       "<p>1205 rows × 11 columns</p>\n",
       "</div>"
      ],
      "text/plain": [
       "      created_at_utc tariff_class  ... payment_currency_code driver_call_model\n",
       "0         1622145491       Эконом  ...                   RUB           no_call\n",
       "1         1622145422       Эконом  ...                   RUB           no_call\n",
       "2         1622145212       Эконом  ...                   RUB         on_demand\n",
       "3         1622054615       Эконом  ...                   RUB         on_demand\n",
       "4         1622045036       Эконом  ...                   RUB         on_demand\n",
       "...              ...          ...  ...                   ...               ...\n",
       "1200      1617028952       Эконом  ...                   RUB           no_call\n",
       "1201      1617028458       Эконом  ...                   RUB           no_call\n",
       "1202      1617025078       Эконом  ...                   RUB           no_call\n",
       "1203      1616869125       Эконом  ...                   RUB           no_call\n",
       "1204      1616844024       Эконом  ...                   RUB           no_call\n",
       "\n",
       "[1205 rows x 11 columns]"
      ]
     },
     "execution_count": 2,
     "metadata": {},
     "output_type": "execute_result"
    }
   ],
   "source": [
    "df = pd.read_csv(\"orders.csv\")\n",
    "df"
   ]
  },
  {
   "cell_type": "code",
   "execution_count": 3,
   "id": "7f99cf27",
   "metadata": {
    "ExecuteTime": {
     "end_time": "2024-04-30T08:37:48.386590Z",
     "start_time": "2024-04-30T08:37:48.372038Z"
    }
   },
   "outputs": [],
   "source": [
    "df = pd.read_csv(\"orders.csv\")\n",
    "df = df.loc[df['payment_cost']!=0]\n",
    "df = df.loc[df['tariff_internal_name']=='econom']\n",
    "df = df.dropna()"
   ]
  },
  {
   "cell_type": "code",
   "execution_count": 4,
   "id": "c7295c63",
   "metadata": {
    "ExecuteTime": {
     "end_time": "2024-04-30T08:37:49.005481Z",
     "start_time": "2024-04-30T08:37:48.991132Z"
    }
   },
   "outputs": [],
   "source": [
    "#Converting to date-time\n",
    "df = df[['created_at_utc','payment_cost']]\n",
    "df['created_at_utc'] = pd.to_datetime(df.created_at_utc,unit='s')\n",
    "#df['created_at_utc'] = df['created_at_utc'].dt.date\n",
    "df['created_at_utc'] = pd.to_datetime(df.created_at_utc,unit=None)\n",
    "#df = df.groupby('created_at_utc').payment_cost.mean()\n",
    "#df = df.reset_index()\n",
    "df.sort_values(by=['created_at_utc'], inplace=True)"
   ]
  },
  {
   "cell_type": "code",
   "execution_count": 5,
   "id": "101f3b3c",
   "metadata": {
    "ExecuteTime": {
     "end_time": "2024-04-30T08:37:50.705535Z",
     "start_time": "2024-04-30T08:37:50.697321Z"
    }
   },
   "outputs": [],
   "source": [
    "df = df.loc[df['payment_cost']!=0]\n",
    "#df = df.loc[(df['created_at_utc'].dt.year == 2019) | (df['created_at_utc'].dt.year == 2020)]\n",
    "df.set_index('created_at_utc', inplace=True)"
   ]
  },
  {
   "cell_type": "code",
   "execution_count": 6,
   "id": "d2fb6356",
   "metadata": {
    "ExecuteTime": {
     "end_time": "2024-04-30T08:38:08.428777Z",
     "start_time": "2024-04-30T08:38:08.423235Z"
    }
   },
   "outputs": [],
   "source": [
    "class BoostedHybrid:\n",
    "    def __init__(self, model_1, model_2):\n",
    "        self.model_1 = model_1\n",
    "        self.model_2 = model_2\n",
    "        self.y_columns = None  # store column names from fit method\n"
   ]
  },
  {
   "cell_type": "code",
   "execution_count": 8,
   "id": "6481f370",
   "metadata": {
    "ExecuteTime": {
     "end_time": "2024-04-30T08:38:34.255534Z",
     "start_time": "2024-04-30T08:38:34.249207Z"
    }
   },
   "outputs": [],
   "source": [
    "def fit(self, X_1, X_2, y):\n",
    "    # YOUR CODE HERE: fit self.model_1\n",
    "    self.model_1.fit(X_1, y)\n",
    "\n",
    "    y_fit = pd.DataFrame(\n",
    "        self.model_1.predict(X_1), \n",
    "        index=X_1.index, columns=y.columns,\n",
    "    )\n",
    "\n",
    "    # YOUR CODE HERE: compute residuals\n",
    "    y_resid = y - y_fit\n",
    "    y_resid = y_resid.stack().squeeze() # wide to long\n",
    "\n",
    "    # YOUR CODE HERE: fit self.model_2 on residuals\n",
    "    self.model_2.fit(X_2, y_resid)\n",
    "\n",
    "    # Save column names for predict method\n",
    "    self.y_columns = y.columns\n",
    "    # Save data for question checking\n",
    "    self.y_fit = y_fit\n",
    "    self.y_resid = y_resid\n",
    "\n",
    "\n",
    "# Add method to class\n",
    "BoostedHybrid.fit = fit"
   ]
  },
  {
   "cell_type": "code",
   "execution_count": 9,
   "id": "52a1e665",
   "metadata": {
    "ExecuteTime": {
     "end_time": "2024-04-30T08:38:41.389542Z",
     "start_time": "2024-04-30T08:38:41.381796Z"
    }
   },
   "outputs": [],
   "source": [
    "def predict(self, X_1, X_2):\n",
    "    y_pred = pd.DataFrame(\n",
    "        # YOUR CODE HERE: predict with self.model_1\n",
    "        self.model_1.predict(X_1),\n",
    "        index=X_1.index, columns=self.y_columns,\n",
    "    )\n",
    "    y_pred = y_pred.stack().squeeze()  # wide to long\n",
    "\n",
    "    # YOUR CODE HERE: add self.model_2 predictions to y_pred\n",
    "    y_pred += self.model_2.predict(X_2)\n",
    "    \n",
    "    return y_pred.unstack()  # long to wide\n",
    "\n",
    "\n",
    "# Add method to class\n",
    "BoostedHybrid.predict = predict"
   ]
  },
  {
   "cell_type": "code",
   "execution_count": null,
   "id": "a1584d57",
   "metadata": {},
   "outputs": [],
   "source": [
    "# Target series\n",
    "y = family_sales.loc[:, 'sales']\n",
    "\n",
    "\n",
    "# X_1: Features for Linear Regression\n",
    "dp = DeterministicProcess(index=y.index, order=1)\n",
    "X_1 = dp.in_sample()\n",
    "\n",
    "\n",
    "# X_2: Features for XGBoost\n",
    "X_2 = family_sales.drop('sales', axis=1).stack()  # onpromotion feature\n",
    "\n",
    "# Label encoding for 'family'\n",
    "le = LabelEncoder()  # from sklearn.preprocessing\n",
    "X_2 = X_2.reset_index('family')\n",
    "X_2['family'] = le.fit_transform(X_2['family'])\n",
    "\n",
    "# Label encoding for seasonality\n",
    "X_2[\"day\"] = X_2.index.day  # values are day of the month"
   ]
  },
  {
   "cell_type": "code",
   "execution_count": null,
   "id": "0f553f20",
   "metadata": {},
   "outputs": [],
   "source": [
    "# YOUR CODE HERE: Create LinearRegression + XGBRegressor hybrid with BoostedHybrid\n",
    "model = BoostedHybrid(\n",
    "    model_1=LinearRegression(),\n",
    "    model_2=XGBRegressor(),\n",
    ")\n",
    "\n",
    "# YOUR CODE HERE: Fit and predict\n",
    "model.fit(X_1, X_2, y)\n",
    "y_pred = model.predict(X_1,X_2)\n",
    "\n",
    "y_pred = y_pred.clip(0.0)\n",
    "\n",
    "\n",
    "# Check your answer\n",
    "q_3.check()"
   ]
  },
  {
   "cell_type": "code",
   "execution_count": null,
   "id": "7cc96045",
   "metadata": {},
   "outputs": [],
   "source": [
    "# Model 1 (trend)\n",
    "from sklearn.linear_model import ElasticNet, Lasso, Ridge\n",
    "\n",
    "# Model 2\n",
    "from sklearn.ensemble import ExtraTreesRegressor, RandomForestRegressor\n",
    "from sklearn.neighbors import KNeighborsRegressor\n",
    "from sklearn.neural_network import MLPRegressor\n",
    "\n",
    "# Boosted Hybrid\n",
    "\n",
    "# YOUR CODE HERE: Try different combinations of the algorithms above\n",
    "model = BoostedHybrid(\n",
    "    model_1=Ridge(),\n",
    "    model_2=KNeighborsRegressor(),\n",
    ")"
   ]
  },
  {
   "cell_type": "code",
   "execution_count": null,
   "id": "225a8803",
   "metadata": {},
   "outputs": [],
   "source": [
    "y_train, y_valid = y[:\"2017-07-01\"], y[\"2017-07-02\":]\n",
    "X1_train, X1_valid = X_1[: \"2017-07-01\"], X_1[\"2017-07-02\" :]\n",
    "X2_train, X2_valid = X_2.loc[:\"2017-07-01\"], X_2.loc[\"2017-07-02\":]\n",
    "\n",
    "# Some of the algorithms above do best with certain kinds of\n",
    "# preprocessing on the features (like standardization), but this is\n",
    "# just a demo.\n",
    "model.fit(X1_train, X2_train, y_train)\n",
    "y_fit = model.predict(X1_train, X2_train).clip(0.0)\n",
    "y_pred = model.predict(X1_valid, X2_valid).clip(0.0)\n",
    "\n",
    "families = y.columns[0:6]\n",
    "axs = y.loc(axis=1)[families].plot(\n",
    "    subplots=True, sharex=True, figsize=(11, 9), **plot_params, alpha=0.5,\n",
    ")\n",
    "_ = y_fit.loc(axis=1)[families].plot(subplots=True, sharex=True, color='C0', ax=axs)\n",
    "_ = y_pred.loc(axis=1)[families].plot(subplots=True, sharex=True, color='C3', ax=axs)\n",
    "for ax, family in zip(axs, families):\n",
    "    ax.legend([])\n",
    "    ax.set_ylabel(family)"
   ]
  },
  {
   "cell_type": "code",
   "execution_count": null,
   "id": "368211ab",
   "metadata": {},
   "outputs": [],
   "source": [
    "from sklearn.linear_model import Ridge\n",
    "from sklearn.ensemble import GradientBoostingRegressor"
   ]
  },
  {
   "cell_type": "code",
   "execution_count": null,
   "id": "75d3d67d",
   "metadata": {},
   "outputs": [],
   "source": [
    "# 1. Train and predict with first model\n",
    "model_1.fit(X_train_1, y_train)\n",
    "y_pred_1 = model_1.predict(X_train)\n",
    "\n",
    "# 2. Train and predict with second model on residuals\n",
    "model_2.fit(X_train_2, y_train - y_pred_1)\n",
    "y_pred_2 = model_2.predict(X_train_2)\n",
    "\n",
    "# 3. Add to get overall predictions\n",
    "y_pred = y_pred_1 + y_pred_2"
   ]
  },
  {
   "cell_type": "code",
   "execution_count": null,
   "id": "3fe4012a",
   "metadata": {},
   "outputs": [],
   "source": [
    "# YOUR CODE HERE: Create LinearRegression + XGBRegressor hybrid with BoostedHybrid\n",
    "model = BoostedHybrid(\n",
    "    model_1=Ridge(),\n",
    "    model_2=GradientBoostingRegressor(),\n",
    ")\n",
    "\n",
    "# YOUR CODE HERE: Fit and predict\n",
    "model.fit(X_1, X_2, y)\n",
    "y_pred = model.predict(X_1,X_2)\n",
    "\n",
    "y_pred = y_pred.clip(0.0)\n",
    "\n",
    "\n",
    "# Check your answer\n"
   ]
  }
 ],
 "metadata": {
  "kernelspec": {
   "display_name": "Python 3 (ipykernel)",
   "language": "python",
   "name": "python3"
  },
  "language_info": {
   "codemirror_mode": {
    "name": "ipython",
    "version": 3
   },
   "file_extension": ".py",
   "mimetype": "text/x-python",
   "name": "python",
   "nbconvert_exporter": "python",
   "pygments_lexer": "ipython3",
   "version": "3.10.12"
  },
  "toc": {
   "base_numbering": 1,
   "nav_menu": {},
   "number_sections": true,
   "sideBar": true,
   "skip_h1_title": false,
   "title_cell": "Table of Contents",
   "title_sidebar": "Contents",
   "toc_cell": false,
   "toc_position": {},
   "toc_section_display": true,
   "toc_window_display": false
  }
 },
 "nbformat": 4,
 "nbformat_minor": 5
}
