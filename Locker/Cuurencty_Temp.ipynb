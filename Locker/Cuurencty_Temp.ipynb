{
 "cells": [
  {
   "cell_type": "code",
   "execution_count": null,
   "id": "a57a3079-934e-4bfd-a13e-f9d4e4494c46",
   "metadata": {},
   "outputs": [],
   "source": [
    "KZT_RUB_2017 = [5.53, 5.47, 5.45, 5.54, 5.5, 5.5, 5.46, 5.58, 5.88, 5.84, 5.64, 5.69]\n",
    "KZT_RUB_2018 = [5.77, 5.67, 5.62, 5.36, 5.27, 5.35, 5.48, 5.41, 5.42, 5.58, 5.58, 5.51]\n",
    "KZT_RUB_2019 = [5.65, 5.74, 5.78, 5.87, 5.86, 5.95, 6.7, 5.9, 5.95, 6.5, 6.7, 6.1]\n",
    "KZT_RUB_2020 = [6.12, 5.91, 5.66, 5.76, 5.75, 5.81, 5.77, 5.67, 5.59, 5.53, 5.57, 5.67]\n",
    "KZT_RUB_2021 = [5.65, 5.63, 5.66, 5.65, 5.78, 5.89, 5.77, 5.78, 5.84, 5.96, 5.92, 5.88]\n",
    "\n",
    "#Reference: https://nationalbank.kz/ru/news/oficialnye-kursy\n",
    "\n",
    "KZT_RUB = [KZT_RUB_2017,KZT_RUB_2018,KZT_RUB_2019,\n",
    "           KZT_RUB_2020,KZT_RUB_2021]\n",
    "\n",
    "Curr_df = pd.DataFrame(KZT_RUB, index = ['2017','2018','2019','2020','2021'])\n",
    "\n",
    "#Curr_df = Curr_df.reset_index()\n",
    "\n",
    "#pd.melt(Curr_df)\n",
    "\n",
    "Curr_df[1]"
   ]
  }
 ],
 "metadata": {
  "kernelspec": {
   "display_name": "Python 3 (ipykernel)",
   "language": "python",
   "name": "python3"
  },
  "language_info": {
   "codemirror_mode": {
    "name": "ipython",
    "version": 3
   },
   "file_extension": ".py",
   "mimetype": "text/x-python",
   "name": "python",
   "nbconvert_exporter": "python",
   "pygments_lexer": "ipython3",
   "version": "3.10.12"
  }
 },
 "nbformat": 4,
 "nbformat_minor": 5
}
