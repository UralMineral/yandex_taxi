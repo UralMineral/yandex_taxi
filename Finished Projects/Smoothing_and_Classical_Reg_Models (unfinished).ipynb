{
 "cells": [
  {
   "cell_type": "markdown",
   "id": "cbfc59f6",
   "metadata": {
    "ExecuteTime": {
     "end_time": "2024-05-05T09:33:36.851797Z",
     "start_time": "2024-05-05T09:33:36.847096Z"
    }
   },
   "source": [
    "# Smoothing + Classical Reg Models"
   ]
  },
  {
   "cell_type": "code",
   "execution_count": 1,
   "id": "c6c28e3b",
   "metadata": {
    "ExecuteTime": {
     "end_time": "2024-05-05T14:21:09.083163Z",
     "start_time": "2024-05-05T14:21:06.813545Z"
    }
   },
   "outputs": [],
   "source": [
    "import numpy as np  # vectors and matrices\n",
    "import pandas as pd  # tables and data manipulations\n",
    "import matplotlib.pyplot as plt  # plots\n",
    "import seaborn as sns  # more plots\n",
    "sns.set()\n",
    "%matplotlib inline\n",
    "%config InlineBackend.figure_format = 'retina'\n",
    "\n",
    "import warnings  \n",
    "warnings.filterwarnings(\"ignore\") # `do not disturbe` mode\n",
    "\n",
    "#from sklearn.model_selection import cross_val_score\n",
    "#from sklearn.model_selection import TimeSeriesSplit\n",
    "#tscv = TimeSeriesSplit(n_splits=5) # for time-series cross-validation set 5 folds"
   ]
  },
  {
   "cell_type": "code",
   "execution_count": 2,
   "id": "c35570dc",
   "metadata": {
    "ExecuteTime": {
     "end_time": "2024-05-05T14:21:09.141335Z",
     "start_time": "2024-05-05T14:21:09.087445Z"
    }
   },
   "outputs": [],
   "source": [
    "#  Little Data Cleaning\n",
    "df = pd.read_csv(\"orders.csv\")\n",
    "df = df.loc[df['payment_cost']!=0]\n",
    "df = df.dropna()"
   ]
  },
  {
   "cell_type": "code",
   "execution_count": 3,
   "id": "dd13b871",
   "metadata": {
    "ExecuteTime": {
     "end_time": "2024-05-05T14:21:09.166646Z",
     "start_time": "2024-05-05T14:21:09.144706Z"
    }
   },
   "outputs": [],
   "source": [
    "# Converting to date-time\n",
    "df = df[['created_at_utc','payment_cost']]\n",
    "df['created_at_utc'] = pd.to_datetime(df.created_at_utc,unit='s')\n",
    "df.sort_values(by=['created_at_utc'], inplace=True)\n",
    "\n",
    "''' We remove data frome these years, because of their obsoleteness. \n",
    "    Please see notebook \"Visual Data analysis: Time depended visualization\"'''\n",
    "\n",
    "df = df.loc[(df['created_at_utc'].dt.year != 2017) & (df['created_at_utc'].dt.year != 2018)] \n",
    "df.set_index('created_at_utc', inplace=True)"
   ]
  },
  {
   "cell_type": "code",
   "execution_count": 4,
   "id": "69e2a08c",
   "metadata": {
    "ExecuteTime": {
     "end_time": "2024-05-05T14:21:09.187308Z",
     "start_time": "2024-05-05T14:21:09.172656Z"
    }
   },
   "outputs": [],
   "source": [
    "# Creating a copy of the initial dataframe to make various transformations\n",
    "data = df.copy()\n",
    "data.columns = [\"y\"]"
   ]
  },
  {
   "cell_type": "code",
   "execution_count": 5,
   "id": "5c55d8e2",
   "metadata": {
    "ExecuteTime": {
     "end_time": "2024-05-05T14:21:09.705191Z",
     "start_time": "2024-05-05T14:21:09.433727Z"
    }
   },
   "outputs": [],
   "source": [
    "# Importing useful error evaluation metrics.\n",
    "from sklearn.metrics import r2_score\n",
    "def mean_absolute_percentage_error(y_true, y_pred):\n",
    "    return np.mean(np.abs((y_true - y_pred) / y_true)) * 100"
   ]
  },
  {
   "cell_type": "markdown",
   "id": "e69012c3",
   "metadata": {
    "ExecuteTime": {
     "end_time": "2024-05-03T04:39:29.601435Z",
     "start_time": "2024-05-03T04:39:29.596542Z"
    }
   },
   "source": [
    "## Moving average.\n",
    "\n",
    "**The function uses pd.rolloing(window) which returns moving average of size of selected window through all data.**"
   ]
  },
  {
   "cell_type": "code",
   "execution_count": null,
   "id": "73280a88",
   "metadata": {},
   "outputs": [],
   "source": [
    "def MovingAverage(series, window):\n",
    "    rolling_mean = series.rolling(window=window,min_periods=1).mean()\n",
    "    return rolling_mean"
   ]
  },
  {
   "cell_type": "code",
   "execution_count": 6,
   "id": "3edbb22e",
   "metadata": {
    "ExecuteTime": {
     "end_time": "2024-05-05T14:21:39.163384Z",
     "start_time": "2024-05-05T14:21:39.153979Z"
    }
   },
   "outputs": [],
   "source": [
    "def plotMovingAverage(series, window, \n",
    "                      plot_graph=False, plot_intervals=False, scale=1.96, plot_anomalies=False):\n",
    "\n",
    "    \"\"\"\n",
    "        series - dataframe with timeseries\n",
    "        window - rolling window size\n",
    "        plot_graph - whether plot or not\n",
    "        plot_intervals - show confidence intervals\n",
    "        plot_anomalies - show anomalies\n",
    "\n",
    "    \"\"\"\n",
    "    rolling_mean = series.rolling(window=window,min_periods=1).mean()\n",
    "\n",
    "    # Plot confidence intervals for smoothed values\n",
    "    if plot_intervals:\n",
    "        mae = mean_absolute_error(series[window:], rolling_mean[window:])\n",
    "        deviation = np.std(series[window:] - rolling_mean[window:])\n",
    "        lower_bond = rolling_mean - (mae + scale * deviation)\n",
    "        upper_bond = rolling_mean + (mae + scale * deviation)\n",
    "        plt.plot(upper_bond, \"r--\", label=\"Upper Bond / Lower Bond\")\n",
    "        plt.plot(lower_bond, \"r--\")\n",
    "\n",
    "        # Having the intervals, find abnormal values\n",
    "        if plot_anomalies:\n",
    "            anomalies = pd.DataFrame(index=series.index, columns=series.columns)\n",
    "            anomalies[series < lower_bond] = series[series < lower_bond]\n",
    "            anomalies[series > upper_bond] = series[series > upper_bond]\n",
    "            plt.plot(anomalies, \"ro\", markersize=10)\n",
    "    if plot_graph:        \n",
    "        plt.figure(figsize=(15, 5))\n",
    "        plt.title(\"Moving average\\n window size = {}\".format(window))\n",
    "        plt.plot(rolling_mean, \"g\", label=\"Rolling mean trend\")\n",
    "        plt.plot(series[window:], label=\"Actual values\",alpha=0.5)\n",
    "        plt.legend(loc=\"upper left\")\n",
    "        plt.grid(True)\n",
    "        plt.show()\n",
    "    \n",
    "    return rolling_mean # Returns transformation of initial data."
   ]
  },
  {
   "cell_type": "code",
   "execution_count": 7,
   "id": "fa3d1b04",
   "metadata": {
    "ExecuteTime": {
     "end_time": "2024-05-05T14:21:53.259918Z",
     "start_time": "2024-05-05T14:21:53.240767Z"
    }
   },
   "outputs": [
    {
     "ename": "SyntaxError",
     "evalue": "invalid syntax (2925490367.py, line 2)",
     "output_type": "error",
     "traceback": [
      "\u001b[0;36m  Cell \u001b[0;32mIn[7], line 2\u001b[0;36m\u001b[0m\n\u001b[0;31m    plot_graph=False, plot_intervals=False, plot_anomalies=False):\u001b[0m\n\u001b[0m    ^\u001b[0m\n\u001b[0;31mSyntaxError\u001b[0m\u001b[0;31m:\u001b[0m invalid syntax\n"
     ]
    }
   ],
   "source": [
    "def plotModelResults(model, X_train, y_train, X_test, y_test, var\n",
    "                     plot_graph=False, plot_intervals=False, plot_anomalies=False):\n",
    "    \"\"\"\n",
    "        Plots modelled vs fact values, prediction intervals and anomalies\n",
    "\n",
    "    \"\"\"\n",
    "\n",
    "    prediction = model.predict(X_test)\n",
    "    \n",
    "    error = mean_absolute_percentage_error(y_test, prediction)\n",
    "    error_r2 = r2_score(prediction, y_test)\n",
    "    \n",
    "    if plot_graph:\n",
    "        plt.figure(figsize=(15, 7))\n",
    "        plt.plot(np.array(y_test.index), prediction, \"g\", label=\"prediction\", linewidth=2.0)\n",
    "        plt.plot(np.array(y_test.index), y_test.values, label=\"actual\", alpha=0.5, linewidth=2.0)\n",
    "\n",
    "        if plot_intervals:\n",
    "            cv = cross_val_score(\n",
    "                model, X_train, y_train, cv=tscv, scoring=\"neg_mean_absolute_error\"\n",
    "            )\n",
    "            mae = cv.mean() * (-1)\n",
    "            deviation = cv.std()\n",
    "\n",
    "            scale = 1.96\n",
    "            lower = prediction - (mae + scale * deviation)\n",
    "            upper = prediction + (mae + scale * deviation)\n",
    "\n",
    "            plt.plot(lower, \"r--\", label=\"upper bond / lower bond\", alpha=0.5)\n",
    "            plt.plot(upper, \"r--\", alpha=0.5)\n",
    "\n",
    "            if plot_anomalies:\n",
    "                anomalies = np.array([np.NaN] * len(y_test))\n",
    "                anomalies[y_test < lower] = y_test[y_test < lower]\n",
    "                anomalies[y_test > upper] = y_test[y_test > upper]\n",
    "                plt.plot(anomalies, \"o\", markersize=10, label=\"Anomalies\")\n",
    "\n",
    "        plt.title(\"R2 score {0:.2f}\".format(error_r2)+' and Mean absolute percentage error {0:.2f}%'.format(error) \\ \n",
    "                  + ' On variable {}'.format(var))\n",
    "        plt.legend(loc=\"best\")\n",
    "        plt.tight_layout()\n",
    "        plt.grid(True)\n",
    "    \n",
    "    return error\n",
    "    \n",
    "def plotCoefficients(model, X_train):\n",
    "    \"\"\"\n",
    "        Plots sorted coefficient values of the model\n",
    "    \"\"\"\n",
    "\n",
    "    coefs = pd.DataFrame(model.coef_, X_train.columns)\n",
    "    coefs.columns = [\"coef\"]\n",
    "    coefs[\"abs\"] = coefs.coef.apply(np.abs)\n",
    "    coefs = coefs.sort_values(by=\"abs\", ascending=False).drop([\"abs\"], axis=1)\n",
    "\n",
    "    plt.figure(figsize=(15, 7))\n",
    "    coefs.coef.plot(kind=\"bar\")\n",
    "    plt.grid(True, axis=\"y\")\n",
    "    plt.hlines(y=0, xmin=0, xmax=len(coefs), linestyles=\"dashed\");"
   ]
  },
  {
   "cell_type": "code",
   "execution_count": null,
   "id": "842a69c9",
   "metadata": {
    "ExecuteTime": {
     "end_time": "2024-05-05T13:53:10.676948Z",
     "start_time": "2024-05-05T13:53:10.618671Z"
    }
   },
   "outputs": [],
   "source": [
    "from sklearn.model_selection import train_test_split"
   ]
  },
  {
   "cell_type": "code",
   "execution_count": null,
   "id": "073165b8",
   "metadata": {
    "ExecuteTime": {
     "end_time": "2024-05-05T13:55:12.032482Z",
     "start_time": "2024-05-05T13:55:12.023335Z"
    }
   },
   "outputs": [],
   "source": [
    "def window_choice(window, model, test_size, \n",
    "                  add_features=False, plot_graph=False, show_lags=False):\n",
    "    \n",
    "    ''' Function for smoothing data locally and make fitting, prediction and plot.'''\n",
    "    \n",
    "    data_rm = plotMovingAverage(data, window=window)\n",
    "    \n",
    "    # If we want to increase number of features:\n",
    "    if add_features:        \n",
    "        data_rm.index = pd.to_datetime(data_rm.index)\n",
    "        data_rm[\"hour\"] = data_rm.index.hour\n",
    "        data_rm[\"weekday\"] = data_rm.index.weekday\n",
    "        data_rm[\"is_weekend\"] = data_rm.weekday.isin([5, 6]) * 1    \n",
    "    \n",
    "    # Adding the lag of the target variable\n",
    "    for i in range(1, 10): \n",
    "        data_rm[\"lag_{}\".format(i)] = data_rm.y.shift(i)\n",
    "        \n",
    "    X_rm =  data_rm.dropna().drop([\"y\"], axis=1)\n",
    "    y_rm =  data_rm.dropna().y\n",
    "        \n",
    "    X_train_rm, X_test_rm, y_train_rm, y_test_rm = train_test_split(X_rm, y_rm, test_size=test_size,\\\n",
    "                                                                   shuffle=False)\n",
    "    model.fit(X_train_rm, y_train_rm)\n",
    "    \n",
    "    if plot_graph:\n",
    "        plotMovingAverage(data, window=window, plot_graph=True)\n",
    "        error = plotModelResults(model, X_train_rm, y_train_rm,\\\n",
    "                                            X_test_rm, y_test_rm, plot_graph=True)\n",
    "        if show_lags:\n",
    "                plotCoefficients(model, X_train_rm)\n",
    "    else:\n",
    "        error = plotModelResults(model, X_train_rm, y_train_rm,\\\n",
    "                                           X_test_rm, y_test_rm)\n",
    "        return error"
   ]
  },
  {
   "cell_type": "markdown",
   "id": "f7829d12",
   "metadata": {
    "ExecuteTime": {
     "end_time": "2024-05-05T09:58:20.250196Z",
     "start_time": "2024-05-05T09:58:20.242091Z"
    }
   },
   "source": [
    "**To compare how smoothing impacts prediction preciseness, same functions will be built to test windows of arrays, say from 1 to 10**"
   ]
  },
  {
   "cell_type": "code",
   "execution_count": null,
   "id": "b61ecdc7",
   "metadata": {
    "ExecuteTime": {
     "end_time": "2024-05-05T13:53:19.689895Z",
     "start_time": "2024-05-05T13:53:19.683954Z"
    }
   },
   "outputs": [],
   "source": [
    "def train_test_split_arrays(X, y, test_size):\n",
    "    \n",
    "    if not 0 < test_size < 1:\n",
    "        raise ValueError(\"test_size must be between 0 and 1.\")\n",
    "    \n",
    "    if len(X) != len(y):\n",
    "        raise ValueError(\"X and y must have the same length.\")\n",
    "    \n",
    "    test_index = int(len(X[0]) * (1 - test_size))\n",
    "    \n",
    "    X_train = [x.iloc[:test_index] for x in X]\n",
    "    X_test = [x.iloc[test_index:] for x in X]\n",
    "    y_train = [Y.iloc[:test_index] for Y in y]\n",
    "    y_test = [Y.iloc[test_index:] for Y in y]\n",
    "\n",
    "    return X_train, X_test, y_train, y_test"
   ]
  },
  {
   "cell_type": "code",
   "execution_count": null,
   "id": "ff734491",
   "metadata": {
    "ExecuteTime": {
     "end_time": "2024-05-05T13:53:20.126814Z",
     "start_time": "2024-05-05T13:53:20.117487Z"
    }
   },
   "outputs": [],
   "source": [
    "def window_choice_arr(window, model, test_size, \n",
    "                      plot_graph=False, add_features=False, show_lags=False):\n",
    "    \n",
    "    data_rms = []\n",
    "    X_rms = []\n",
    "    y_rms = []\n",
    "    \n",
    "    for i in range(1, window+1):\n",
    "        data_rms.append(plotMovingAverage(data, window=i))\n",
    "    \n",
    "    if add_features:        \n",
    "        for data_rm in data_rms:\n",
    "            data_rm.index = pd.to_datetime(data_rm.index)\n",
    "            data_rm[\"hour\"] = data_rm.index.hour\n",
    "            data_rm[\"weekday\"] = data_rm.index.weekday\n",
    "            data_rm[\"is_weekend\"] = data_rm.weekday.isin([5, 6]) * 1    \n",
    "    \n",
    "    # Adding the lag of the target variable\n",
    "    for data_rm in data_rms:\n",
    "        for i in range(1, 10): \n",
    "            data_rm[\"lag_{}\".format(i)] = data_rm.y.shift(i)\n",
    "        X_rms.append(data_rm.dropna().drop([\"y\"], axis=1))\n",
    "        y_rms.append(data_rm.dropna().y)\n",
    "        \n",
    "    X_train_rms, X_test_rms, y_train_rms, y_test_rms = train_test_split_arrays(X_rms, y_rms, test_size)\n",
    "\n",
    "    model_array = []\n",
    "    errors = []\n",
    "    \n",
    "    for i, data_rm in enumerate(data_rms):\n",
    "        model_array.append(model.fit(X_train_rms[i], y_train_rms[i]))\n",
    "        if plot_graph:\n",
    "            errors.append(plotModelResults(model_array[i], X_train_rms[i], y_train_rms[i],\\\n",
    "                                            X_test_rms[i], y_test_rms[i], i+1, plot_graph=True))\n",
    "            if show_lags:\n",
    "                plotCoefficients(model_array[i], X_train_rms[i])\n",
    "        else:\n",
    "            errors.append(plotModelResults(model_array[i], X_train_rms[i], y_train_rms[i],\\\n",
    "                                            X_test_rms[i], y_test_rms[i], i+1))\n",
    "    return errors"
   ]
  },
  {
   "cell_type": "code",
   "execution_count": null,
   "id": "b153908c",
   "metadata": {
    "ExecuteTime": {
     "end_time": "2024-05-05T13:53:22.557387Z",
     "start_time": "2024-05-05T13:53:21.556937Z"
    }
   },
   "outputs": [],
   "source": [
    "# Finally, our models.\n",
    "from sklearn.linear_model import LinearRegression, Lasso, LassoCV, Ridge, RidgeCV, BayesianRidge, ElasticNet\n",
    "from sklearn.tree import DecisionTreeRegressor\n",
    "from sklearn.ensemble import RandomForestRegressor\n",
    "from lightgbm import LGBMRegressor\n",
    "warnings.filterwarnings(\"ignore\", category=UserWarning)\n",
    "from xgboost import XGBRFRegressor\n",
    "\n",
    "#To hide model parameters when plotting, custom operation.\n",
    "class CustomXGBRFRegressor(XGBRFRegressor):\n",
    "    def __repr__(self):\n",
    "        return 'CustomXGBRFRegressor()'\n",
    "    \n",
    "lr = LinearRegression()\n",
    "ls = Lasso()\n",
    "rg = Ridge()\n",
    "brg = BayesianRidge()\n",
    "el  = ElasticNet()\n",
    "models_linear   = [lr, ls, rg, brg, el]  \n",
    "\n",
    "tr = DecisionTreeRegressor()\n",
    "rf = RandomForestRegressor()\n",
    "xgb = CustomXGBRFRegressor()\n",
    "lgbm = LGBMRegressor(verbose=-1)\n",
    "models_ensemble = [tr, rf, xgb, lgbm]"
   ]
  },
  {
   "cell_type": "code",
   "execution_count": null,
   "id": "d23974b6",
   "metadata": {
    "ExecuteTime": {
     "end_time": "2024-05-05T13:55:18.196470Z",
     "start_time": "2024-05-05T13:55:15.958516Z"
    },
    "scrolled": true
   },
   "outputs": [],
   "source": [
    "window_choice(window=3, lr, 0.2, plot_graph=True) # When you want to see a model with arbitrary window."
   ]
  },
  {
   "cell_type": "code",
   "execution_count": null,
   "id": "efb1f5f8",
   "metadata": {
    "ExecuteTime": {
     "end_time": "2024-05-05T10:32:56.067058Z",
     "start_time": "2024-05-05T10:32:45.925194Z"
    },
    "scrolled": true
   },
   "outputs": [],
   "source": [
    "# When you want to see a model with set of windows starting from 1 ascendingly.\n",
    "window_choice_arr(10, brg, 0.2, plot_graph=True) "
   ]
  },
  {
   "cell_type": "code",
   "execution_count": null,
   "id": "840fb55a",
   "metadata": {
    "ExecuteTime": {
     "end_time": "2024-05-05T10:33:11.454133Z",
     "start_time": "2024-05-05T10:32:56.071262Z"
    }
   },
   "outputs": [],
   "source": [
    "# For comparison, random forest is worse that Bayesian Ridge.\n",
    "window_choice_arr(10, rf, 0.2, plot_graph=True)"
   ]
  },
  {
   "cell_type": "code",
   "execution_count": null,
   "id": "fa82e6a9",
   "metadata": {
    "ExecuteTime": {
     "end_time": "2024-05-05T10:33:12.337711Z",
     "start_time": "2024-05-05T10:33:11.458845Z"
    }
   },
   "outputs": [],
   "source": [
    "err_1 = window_choice_arr(10, lr, 0.2)\n",
    "err_2 = window_choice_arr(10, lgbm, 0.2)"
   ]
  },
  {
   "cell_type": "code",
   "execution_count": null,
   "id": "92d5609d",
   "metadata": {
    "ExecuteTime": {
     "end_time": "2024-05-05T10:33:12.857242Z",
     "start_time": "2024-05-05T10:33:12.343575Z"
    },
    "scrolled": false
   },
   "outputs": [],
   "source": [
    "# Let us compare graphically, which model exceeds at prediction:\n",
    "plt.figure(figsize=(4, 3))\n",
    "plt.scatter(range(1,11), np.array(err_1) - np.array(err_2))\n",
    "plt.xlabel('window')\n",
    "plt.ylabel('err_diff')\n",
    "plt.title(f' {lr}'+' -'+f' {lgbm}'+\" = {0:.2f} %\".format(np.mean(np.array(err_1[1:]) - np.array(err_2[1:]))))\n",
    "plt.tight_layout()\n",
    "plt.grid(True)"
   ]
  },
  {
   "cell_type": "markdown",
   "id": "9111315a",
   "metadata": {
    "ExecuteTime": {
     "end_time": "2024-05-05T10:06:13.659433Z",
     "start_time": "2024-05-05T10:06:13.652258Z"
    }
   },
   "source": [
    "**We notice that Linear regression is better that LGBM in performance after second window, and results of the**\n",
    "**first window (window = 1) is the unchanged data where all models fail to predict validly the data, so we ignore it and go on comparing other models.**"
   ]
  },
  {
   "cell_type": "code",
   "execution_count": null,
   "id": "cbda6481",
   "metadata": {
    "ExecuteTime": {
     "end_time": "2024-05-05T10:33:12.872203Z",
     "start_time": "2024-05-05T10:33:12.862132Z"
    }
   },
   "outputs": [],
   "source": [
    "def error_estimator(models, fig_size):\n",
    "    \n",
    "    ''' Funcition plots same as in above plot, \n",
    "        where we analyse which model is the best decision for our dataset (no preprocessing and tuning (yet))'''\n",
    "    \n",
    "    num_models = len(models)\n",
    "    fig, axs = plt.subplots(num_models, num_models, figsize=(fig_size, fig_size))\n",
    "    \n",
    "    for i, model_i in enumerate(models):\n",
    "        for j, model_j in enumerate(models):\n",
    "            if i != j:\n",
    "                ax = axs[i, j]\n",
    "                err_i = window_choice_arr(10, model_i, 0.2)\n",
    "                err_j = window_choice_arr(10, model_j, 0.2)\n",
    "                \n",
    "                ax.plot(np.array(err_i[1:]) - np.array(err_j[1:]))\n",
    "                ax.set_xlabel('window')\n",
    "                ax.set_ylabel('err_diff in %'+\" = {0:.2f} %\".format(np.mean(np.array(err_i[1:]) - np.array(err_j[1:]))))\n",
    "                ax.set_title(f'{model_i} - {model_j}')\n",
    "                ax.grid(True)\n",
    "    \n",
    "    # Hide empty subplots\n",
    "    for i in range(num_models):\n",
    "        for j in range(num_models):\n",
    "            if i == j:\n",
    "                axs[i, j].axis('off')\n",
    "    \n",
    "    plt.tight_layout()\n",
    "    plt.show()"
   ]
  },
  {
   "cell_type": "code",
   "execution_count": null,
   "id": "492a8bc3",
   "metadata": {
    "ExecuteTime": {
     "end_time": "2024-05-05T10:33:24.379190Z",
     "start_time": "2024-05-05T10:33:12.878170Z"
    },
    "scrolled": true
   },
   "outputs": [],
   "source": [
    "error_estimator(models_linear, fig_size=20)"
   ]
  },
  {
   "cell_type": "markdown",
   "id": "3752c168",
   "metadata": {
    "ExecuteTime": {
     "end_time": "2024-05-05T10:27:26.966417Z",
     "start_time": "2024-05-05T10:27:26.958561Z"
    }
   },
   "source": [
    "**There is not big difference between linear models, as we can see**"
   ]
  },
  {
   "cell_type": "code",
   "execution_count": null,
   "id": "9020cb96",
   "metadata": {
    "ExecuteTime": {
     "end_time": "2024-05-05T10:34:38.462203Z",
     "start_time": "2024-05-05T10:33:24.382644Z"
    },
    "scrolled": true
   },
   "outputs": [],
   "source": [
    "error_estimator(models_ensemble, fig_size = 20)"
   ]
  },
  {
   "cell_type": "markdown",
   "id": "a527d678",
   "metadata": {
    "ExecuteTime": {
     "end_time": "2024-05-05T10:28:31.560488Z",
     "start_time": "2024-05-05T10:28:31.552427Z"
    }
   },
   "source": [
    "**Interestingly enough, ensembles have error difference of range of up to 10 percent**"
   ]
  },
  {
   "cell_type": "code",
   "execution_count": null,
   "id": "98f8e05c",
   "metadata": {
    "ExecuteTime": {
     "end_time": "2024-05-05T10:34:38.956899Z",
     "start_time": "2024-05-05T10:34:38.465900Z"
    }
   },
   "outputs": [],
   "source": [
    "# Let us compare graphically, which model exceeds at prediction:\n",
    "plt.figure(figsize=(4, 3))\n",
    "plt.scatter(range(1,10), np.array(err_1[1:]) - np.array(err_2[1:]))\n",
    "plt.xlabel('window')\n",
    "plt.ylabel('err_diff')\n",
    "plt.title(f' {lr}'+' -'+f' {lgbm}'+\" = {0:.2f} %\".format(np.mean(np.array(err_1[1:]) - np.array(err_2[1:]))))\n",
    "plt.tight_layout()\n",
    "plt.grid(True)"
   ]
  },
  {
   "cell_type": "markdown",
   "id": "d61525eb",
   "metadata": {
    "ExecuteTime": {
     "end_time": "2024-05-03T05:26:41.928484Z",
     "start_time": "2024-05-03T05:26:41.924076Z"
    }
   },
   "source": [
    "## Exponential Smoothing"
   ]
  },
  {
   "cell_type": "code",
   "execution_count": null,
   "id": "8c40d94e",
   "metadata": {
    "ExecuteTime": {
     "end_time": "2024-05-05T11:20:32.931533Z",
     "start_time": "2024-05-05T11:20:32.923817Z"
    }
   },
   "outputs": [],
   "source": [
    "def exponential_smoothing(series, alpha):\n",
    "    \"\"\"\n",
    "        series - dataset with timestamps\n",
    "        alpha - float [0.0, 1.0], smoothing parameter\n",
    "    \"\"\"\n",
    "    result = [series[0]]  # first value is same as series\n",
    "    for n in range(1, len(series)):\n",
    "        result.append(alpha * series[n] + (1 - alpha) * result[n - 1])\n",
    "    return result"
   ]
  },
  {
   "cell_type": "code",
   "execution_count": null,
   "id": "2a598f37",
   "metadata": {
    "ExecuteTime": {
     "end_time": "2024-05-05T11:20:33.174122Z",
     "start_time": "2024-05-05T11:20:32.936724Z"
    }
   },
   "outputs": [],
   "source": [
    "data_exp = pd.DataFrame({'y':exponential_smoothing(data.y,alpha=0.3)},index=data.index)"
   ]
  },
  {
   "cell_type": "code",
   "execution_count": null,
   "id": "c27fe398",
   "metadata": {
    "ExecuteTime": {
     "end_time": "2024-05-05T11:20:33.180133Z",
     "start_time": "2024-05-05T11:20:33.180093Z"
    }
   },
   "outputs": [],
   "source": [
    "def plotExponentialSmoothing(series, alphas):\n",
    "    \"\"\"\n",
    "        Plots exponential smoothing with different alphas\n",
    "\n",
    "        series - dataset with timestamps\n",
    "        alphas - list of floats, smoothing parameters\n",
    "\n",
    "    \"\"\"\n",
    "    #with plt.style.context(\"seaborn-white\"):\n",
    "    plt.figure(figsize=(15, 7))\n",
    "    for alpha in alphas:\n",
    "        plt.plot(\n",
    "            exponential_smoothing(series, alpha), label=\"Alpha {}\".format(alpha)\n",
    "        )\n",
    "    plt.plot(series.values, \"c\",alpha = 0.3, label=\"Actual\")\n",
    "    plt.legend(loc=\"best\")\n",
    "    plt.axis(\"tight\")\n",
    "    plt.title(\"Exponential Smoothing\")\n",
    "    plt.grid(True)\n",
    "    plt.show()"
   ]
  },
  {
   "cell_type": "code",
   "execution_count": null,
   "id": "ada95863",
   "metadata": {
    "ExecuteTime": {
     "end_time": "2024-05-05T11:20:41.455178Z",
     "start_time": "2024-05-05T11:20:41.429385Z"
    },
    "scrolled": true
   },
   "outputs": [],
   "source": [
    "plotExponentialSmoothing(data.y, [0.3, 0.05])"
   ]
  },
  {
   "cell_type": "markdown",
   "id": "91167d0c",
   "metadata": {
    "ExecuteTime": {
     "end_time": "2024-05-05T10:25:37.017009Z",
     "start_time": "2024-05-05T10:25:37.007787Z"
    }
   },
   "source": [
    "**Interestingly enough, linear model without tuning appeared to be best model so far, for our dataset.**\n",
    "\n",
    "Perhaps I will add Cross Validation CV techinques + preprocessing + tuning. Thanks for your time :)"
   ]
  }
 ],
 "metadata": {
  "kernelspec": {
   "display_name": "Python 3 (ipykernel)",
   "language": "python",
   "name": "python3"
  },
  "language_info": {
   "codemirror_mode": {
    "name": "ipython",
    "version": 3
   },
   "file_extension": ".py",
   "mimetype": "text/x-python",
   "name": "python",
   "nbconvert_exporter": "python",
   "pygments_lexer": "ipython3",
   "version": "3.10.12"
  },
  "toc": {
   "base_numbering": 1,
   "nav_menu": {},
   "number_sections": true,
   "sideBar": true,
   "skip_h1_title": false,
   "title_cell": "Table of Contents",
   "title_sidebar": "Contents",
   "toc_cell": false,
   "toc_position": {},
   "toc_section_display": true,
   "toc_window_display": false
  }
 },
 "nbformat": 4,
 "nbformat_minor": 5
}
