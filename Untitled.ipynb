{
 "cells": [
  {
   "cell_type": "markdown",
   "id": "5533e3e4",
   "metadata": {
    "ExecuteTime": {
     "end_time": "2024-04-30T08:47:58.285540Z",
     "start_time": "2024-04-30T08:47:58.264425Z"
    }
   },
   "source": [
    "## Ordinary model."
   ]
  },
  {
   "cell_type": "code",
   "execution_count": 1,
   "id": "fed76300",
   "metadata": {
    "ExecuteTime": {
     "end_time": "2024-04-30T10:20:51.461722Z",
     "start_time": "2024-04-30T10:20:50.117755Z"
    }
   },
   "outputs": [],
   "source": [
    "import numpy as np\n",
    "import pandas as pd\n",
    "import matplotlib.pyplot as plt\n",
    "from sklearn.model_selection import train_test_split\n",
    "from sklearn.linear_model import LinearRegression\n",
    "from sklearn.metrics import mean_squared_error"
   ]
  },
  {
   "cell_type": "code",
   "execution_count": 2,
   "id": "4c080d8c",
   "metadata": {
    "ExecuteTime": {
     "end_time": "2024-04-30T10:20:51.477963Z",
     "start_time": "2024-04-30T10:20:51.465190Z"
    }
   },
   "outputs": [],
   "source": [
    "# Sample data creation (replace with your own dataset)\n",
    "data = pd.DataFrame({'Date': pd.date_range(start='2022-01-01', periods=100, freq='D'),\n",
    "                     'Feature': np.random.randn(100),\n",
    "                     'Target': np.random.randn(100)})"
   ]
  },
  {
   "cell_type": "code",
   "execution_count": 3,
   "id": "84f50d95",
   "metadata": {
    "ExecuteTime": {
     "end_time": "2024-04-30T10:20:51.519552Z",
     "start_time": "2024-04-30T10:20:51.483594Z"
    }
   },
   "outputs": [
    {
     "data": {
      "text/html": [
       "<div>\n",
       "<style scoped>\n",
       "    .dataframe tbody tr th:only-of-type {\n",
       "        vertical-align: middle;\n",
       "    }\n",
       "\n",
       "    .dataframe tbody tr th {\n",
       "        vertical-align: top;\n",
       "    }\n",
       "\n",
       "    .dataframe thead th {\n",
       "        text-align: right;\n",
       "    }\n",
       "</style>\n",
       "<table border=\"1\" class=\"dataframe\">\n",
       "  <thead>\n",
       "    <tr style=\"text-align: right;\">\n",
       "      <th></th>\n",
       "      <th>Date</th>\n",
       "      <th>Feature</th>\n",
       "      <th>Target</th>\n",
       "    </tr>\n",
       "  </thead>\n",
       "  <tbody>\n",
       "    <tr>\n",
       "      <th>0</th>\n",
       "      <td>2022-01-01</td>\n",
       "      <td>1.708715</td>\n",
       "      <td>-1.700417</td>\n",
       "    </tr>\n",
       "    <tr>\n",
       "      <th>1</th>\n",
       "      <td>2022-01-02</td>\n",
       "      <td>-0.254158</td>\n",
       "      <td>-0.375528</td>\n",
       "    </tr>\n",
       "    <tr>\n",
       "      <th>2</th>\n",
       "      <td>2022-01-03</td>\n",
       "      <td>-0.053417</td>\n",
       "      <td>2.086647</td>\n",
       "    </tr>\n",
       "    <tr>\n",
       "      <th>3</th>\n",
       "      <td>2022-01-04</td>\n",
       "      <td>-0.595112</td>\n",
       "      <td>0.354681</td>\n",
       "    </tr>\n",
       "    <tr>\n",
       "      <th>4</th>\n",
       "      <td>2022-01-05</td>\n",
       "      <td>-1.797057</td>\n",
       "      <td>0.234149</td>\n",
       "    </tr>\n",
       "    <tr>\n",
       "      <th>...</th>\n",
       "      <td>...</td>\n",
       "      <td>...</td>\n",
       "      <td>...</td>\n",
       "    </tr>\n",
       "    <tr>\n",
       "      <th>95</th>\n",
       "      <td>2022-04-06</td>\n",
       "      <td>-0.733773</td>\n",
       "      <td>0.200493</td>\n",
       "    </tr>\n",
       "    <tr>\n",
       "      <th>96</th>\n",
       "      <td>2022-04-07</td>\n",
       "      <td>0.379665</td>\n",
       "      <td>-0.523321</td>\n",
       "    </tr>\n",
       "    <tr>\n",
       "      <th>97</th>\n",
       "      <td>2022-04-08</td>\n",
       "      <td>-0.203175</td>\n",
       "      <td>0.773994</td>\n",
       "    </tr>\n",
       "    <tr>\n",
       "      <th>98</th>\n",
       "      <td>2022-04-09</td>\n",
       "      <td>0.523820</td>\n",
       "      <td>-0.154607</td>\n",
       "    </tr>\n",
       "    <tr>\n",
       "      <th>99</th>\n",
       "      <td>2022-04-10</td>\n",
       "      <td>-0.453523</td>\n",
       "      <td>-1.054918</td>\n",
       "    </tr>\n",
       "  </tbody>\n",
       "</table>\n",
       "<p>100 rows × 3 columns</p>\n",
       "</div>"
      ],
      "text/plain": [
       "         Date   Feature    Target\n",
       "0  2022-01-01  1.708715 -1.700417\n",
       "1  2022-01-02 -0.254158 -0.375528\n",
       "2  2022-01-03 -0.053417  2.086647\n",
       "3  2022-01-04 -0.595112  0.354681\n",
       "4  2022-01-05 -1.797057  0.234149\n",
       "..        ...       ...       ...\n",
       "95 2022-04-06 -0.733773  0.200493\n",
       "96 2022-04-07  0.379665 -0.523321\n",
       "97 2022-04-08 -0.203175  0.773994\n",
       "98 2022-04-09  0.523820 -0.154607\n",
       "99 2022-04-10 -0.453523 -1.054918\n",
       "\n",
       "[100 rows x 3 columns]"
      ]
     },
     "execution_count": 3,
     "metadata": {},
     "output_type": "execute_result"
    }
   ],
   "source": [
    "data"
   ]
  },
  {
   "cell_type": "code",
   "execution_count": 4,
   "id": "bb499e87",
   "metadata": {
    "ExecuteTime": {
     "end_time": "2024-04-30T10:20:51.537482Z",
     "start_time": "2024-04-30T10:20:51.524813Z"
    }
   },
   "outputs": [],
   "source": [
    "# Function to create lagged features\n",
    "def create_lagged_features(data, lag):\n",
    "    for i in range(1, lag+1):\n",
    "        data[f'Feature_Lag_{i}'] = data['Feature'].shift(i)\n",
    "    return data\n"
   ]
  },
  {
   "cell_type": "code",
   "execution_count": 5,
   "id": "ebe0941e",
   "metadata": {
    "ExecuteTime": {
     "end_time": "2024-04-30T10:20:51.582705Z",
     "start_time": "2024-04-30T10:20:51.543639Z"
    }
   },
   "outputs": [],
   "source": [
    "# Create lagged features\n",
    "data = create_lagged_features(data, lag=3)\n",
    "\n",
    "# Drop rows with NaN values due to lag\n",
    "data = data.dropna()"
   ]
  },
  {
   "cell_type": "code",
   "execution_count": 6,
   "id": "b2f8ffba",
   "metadata": {
    "ExecuteTime": {
     "end_time": "2024-04-30T10:20:51.622322Z",
     "start_time": "2024-04-30T10:20:51.586422Z"
    }
   },
   "outputs": [
    {
     "data": {
      "text/html": [
       "<div>\n",
       "<style scoped>\n",
       "    .dataframe tbody tr th:only-of-type {\n",
       "        vertical-align: middle;\n",
       "    }\n",
       "\n",
       "    .dataframe tbody tr th {\n",
       "        vertical-align: top;\n",
       "    }\n",
       "\n",
       "    .dataframe thead th {\n",
       "        text-align: right;\n",
       "    }\n",
       "</style>\n",
       "<table border=\"1\" class=\"dataframe\">\n",
       "  <thead>\n",
       "    <tr style=\"text-align: right;\">\n",
       "      <th></th>\n",
       "      <th>Date</th>\n",
       "      <th>Feature</th>\n",
       "      <th>Target</th>\n",
       "      <th>Feature_Lag_1</th>\n",
       "      <th>Feature_Lag_2</th>\n",
       "      <th>Feature_Lag_3</th>\n",
       "    </tr>\n",
       "  </thead>\n",
       "  <tbody>\n",
       "    <tr>\n",
       "      <th>3</th>\n",
       "      <td>2022-01-04</td>\n",
       "      <td>-0.595112</td>\n",
       "      <td>0.354681</td>\n",
       "      <td>-0.053417</td>\n",
       "      <td>-0.254158</td>\n",
       "      <td>1.708715</td>\n",
       "    </tr>\n",
       "    <tr>\n",
       "      <th>4</th>\n",
       "      <td>2022-01-05</td>\n",
       "      <td>-1.797057</td>\n",
       "      <td>0.234149</td>\n",
       "      <td>-0.595112</td>\n",
       "      <td>-0.053417</td>\n",
       "      <td>-0.254158</td>\n",
       "    </tr>\n",
       "    <tr>\n",
       "      <th>5</th>\n",
       "      <td>2022-01-06</td>\n",
       "      <td>-0.925130</td>\n",
       "      <td>-0.548008</td>\n",
       "      <td>-1.797057</td>\n",
       "      <td>-0.595112</td>\n",
       "      <td>-0.053417</td>\n",
       "    </tr>\n",
       "    <tr>\n",
       "      <th>6</th>\n",
       "      <td>2022-01-07</td>\n",
       "      <td>0.885869</td>\n",
       "      <td>0.736896</td>\n",
       "      <td>-0.925130</td>\n",
       "      <td>-1.797057</td>\n",
       "      <td>-0.595112</td>\n",
       "    </tr>\n",
       "    <tr>\n",
       "      <th>7</th>\n",
       "      <td>2022-01-08</td>\n",
       "      <td>0.741140</td>\n",
       "      <td>-1.522443</td>\n",
       "      <td>0.885869</td>\n",
       "      <td>-0.925130</td>\n",
       "      <td>-1.797057</td>\n",
       "    </tr>\n",
       "    <tr>\n",
       "      <th>...</th>\n",
       "      <td>...</td>\n",
       "      <td>...</td>\n",
       "      <td>...</td>\n",
       "      <td>...</td>\n",
       "      <td>...</td>\n",
       "      <td>...</td>\n",
       "    </tr>\n",
       "    <tr>\n",
       "      <th>95</th>\n",
       "      <td>2022-04-06</td>\n",
       "      <td>-0.733773</td>\n",
       "      <td>0.200493</td>\n",
       "      <td>-1.633856</td>\n",
       "      <td>-0.940765</td>\n",
       "      <td>1.666203</td>\n",
       "    </tr>\n",
       "    <tr>\n",
       "      <th>96</th>\n",
       "      <td>2022-04-07</td>\n",
       "      <td>0.379665</td>\n",
       "      <td>-0.523321</td>\n",
       "      <td>-0.733773</td>\n",
       "      <td>-1.633856</td>\n",
       "      <td>-0.940765</td>\n",
       "    </tr>\n",
       "    <tr>\n",
       "      <th>97</th>\n",
       "      <td>2022-04-08</td>\n",
       "      <td>-0.203175</td>\n",
       "      <td>0.773994</td>\n",
       "      <td>0.379665</td>\n",
       "      <td>-0.733773</td>\n",
       "      <td>-1.633856</td>\n",
       "    </tr>\n",
       "    <tr>\n",
       "      <th>98</th>\n",
       "      <td>2022-04-09</td>\n",
       "      <td>0.523820</td>\n",
       "      <td>-0.154607</td>\n",
       "      <td>-0.203175</td>\n",
       "      <td>0.379665</td>\n",
       "      <td>-0.733773</td>\n",
       "    </tr>\n",
       "    <tr>\n",
       "      <th>99</th>\n",
       "      <td>2022-04-10</td>\n",
       "      <td>-0.453523</td>\n",
       "      <td>-1.054918</td>\n",
       "      <td>0.523820</td>\n",
       "      <td>-0.203175</td>\n",
       "      <td>0.379665</td>\n",
       "    </tr>\n",
       "  </tbody>\n",
       "</table>\n",
       "<p>97 rows × 6 columns</p>\n",
       "</div>"
      ],
      "text/plain": [
       "         Date   Feature    Target  Feature_Lag_1  Feature_Lag_2  Feature_Lag_3\n",
       "3  2022-01-04 -0.595112  0.354681      -0.053417      -0.254158       1.708715\n",
       "4  2022-01-05 -1.797057  0.234149      -0.595112      -0.053417      -0.254158\n",
       "5  2022-01-06 -0.925130 -0.548008      -1.797057      -0.595112      -0.053417\n",
       "6  2022-01-07  0.885869  0.736896      -0.925130      -1.797057      -0.595112\n",
       "7  2022-01-08  0.741140 -1.522443       0.885869      -0.925130      -1.797057\n",
       "..        ...       ...       ...            ...            ...            ...\n",
       "95 2022-04-06 -0.733773  0.200493      -1.633856      -0.940765       1.666203\n",
       "96 2022-04-07  0.379665 -0.523321      -0.733773      -1.633856      -0.940765\n",
       "97 2022-04-08 -0.203175  0.773994       0.379665      -0.733773      -1.633856\n",
       "98 2022-04-09  0.523820 -0.154607      -0.203175       0.379665      -0.733773\n",
       "99 2022-04-10 -0.453523 -1.054918       0.523820      -0.203175       0.379665\n",
       "\n",
       "[97 rows x 6 columns]"
      ]
     },
     "execution_count": 6,
     "metadata": {},
     "output_type": "execute_result"
    }
   ],
   "source": [
    "data"
   ]
  },
  {
   "cell_type": "code",
   "execution_count": 7,
   "id": "7352076c",
   "metadata": {
    "ExecuteTime": {
     "end_time": "2024-04-30T10:20:51.645576Z",
     "start_time": "2024-04-30T10:20:51.626377Z"
    }
   },
   "outputs": [],
   "source": [
    "# Prepare X (features) and y (target)\n",
    "X = data.drop(['Date', 'Target'], axis=1)\n",
    "y = data['Target']\n",
    "\n",
    "# Split data into train and test sets\n",
    "X_train, X_test, y_train, y_test = train_test_split(X, y, test_size=0.2, shuffle=False)"
   ]
  },
  {
   "cell_type": "code",
   "execution_count": 8,
   "id": "1457f4da",
   "metadata": {
    "ExecuteTime": {
     "end_time": "2024-04-30T10:20:51.673319Z",
     "start_time": "2024-04-30T10:20:51.650695Z"
    }
   },
   "outputs": [],
   "source": [
    "# Train a linear regression model\n",
    "model = LinearRegression()\n",
    "model.fit(X_train, y_train)\n",
    "\n",
    "# Make predictions\n",
    "y_pred = model.predict(X_test)"
   ]
  },
  {
   "cell_type": "code",
   "execution_count": 9,
   "id": "6faa299b",
   "metadata": {
    "ExecuteTime": {
     "end_time": "2024-04-30T10:20:51.777015Z",
     "start_time": "2024-04-30T10:20:51.698541Z"
    }
   },
   "outputs": [
    {
     "name": "stdout",
     "output_type": "stream",
     "text": [
      "Mean Squared Error: 0.8087906147867988\n"
     ]
    }
   ],
   "source": [
    "# Evaluate the model\n",
    "mse = mean_squared_error(y_test, y_pred)\n",
    "print(\"Mean Squared Error:\", mse)"
   ]
  },
  {
   "cell_type": "code",
   "execution_count": 10,
   "id": "591b36f7",
   "metadata": {
    "ExecuteTime": {
     "end_time": "2024-04-30T10:20:52.220875Z",
     "start_time": "2024-04-30T10:20:51.782990Z"
    },
    "scrolled": true
   },
   "outputs": [
    {
     "data": {
      "image/png": "[encoded data removed]",
      "text/plain": [
       "<Figure size 640x480 with 1 Axes>"
      ]
     },
     "metadata": {},
     "output_type": "display_data"
    }
   ],
   "source": [
    "# Plot actual vs. predicted values\n",
    "#plt.figure(figsize=(10, 6))\n",
    "plt.plot(y_test.index, y_test, label='Actual')\n",
    "plt.plot(y_test.index, y_pred, label='Predicted')\n",
    "plt.title('Actual vs. Predicted Values')\n",
    "plt.xlabel('Index')\n",
    "plt.ylabel('Target')\n",
    "plt.legend()\n",
    "plt.grid(True)\n",
    "plt.show()"
   ]
  },
  {
   "cell_type": "markdown",
   "id": "406872f7",
   "metadata": {
    "ExecuteTime": {
     "end_time": "2024-04-30T08:48:12.828232Z",
     "start_time": "2024-04-30T08:48:12.823485Z"
    }
   },
   "source": [
    "## Hybrid modeling"
   ]
  },
  {
   "cell_type": "code",
   "execution_count": null,
   "id": "8f51d128",
   "metadata": {},
   "outputs": [],
   "source": []
  }
 ],
 "metadata": {
  "kernelspec": {
   "display_name": "Python 3 (ipykernel)",
   "language": "python",
   "name": "python3"
  },
  "language_info": {
   "codemirror_mode": {
    "name": "ipython",
    "version": 3
   },
   "file_extension": ".py",
   "mimetype": "text/x-python",
   "name": "python",
   "nbconvert_exporter": "python",
   "pygments_lexer": "ipython3",
   "version": "3.10.12"
  },
  "toc": {
   "base_numbering": 1,
   "nav_menu": {},
   "number_sections": true,
   "sideBar": true,
   "skip_h1_title": false,
   "title_cell": "Table of Contents",
   "title_sidebar": "Contents",
   "toc_cell": false,
   "toc_position": {},
   "toc_section_display": true,
   "toc_window_display": false
  }
 },
 "nbformat": 4,
 "nbformat_minor": 5
}
